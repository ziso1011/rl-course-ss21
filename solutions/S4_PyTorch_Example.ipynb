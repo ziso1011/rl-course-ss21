{
 "cells": [
  {
   "cell_type": "markdown",
   "metadata": {
    "id": "TOBUyiZq3d2u"
   },
   "source": [
    "# Minimal PyTorch Example\n",
    "\n"
   ]
  },
  {
   "cell_type": "markdown",
   "metadata": {
    "id": "YvwPL6u83aNe"
   },
   "source": [
    "This notebooks shows a very minimal example on how to use PyTorch for training a neural network on the Iris data set.\n",
    "\n",
    "Note: This notebook is inspired by https://jamesmccaffrey.wordpress.com/2020/05/22/a-minimal-pytorch-complete-example/"
   ]
  },
  {
   "cell_type": "markdown",
   "metadata": {
    "id": "LhdvnPe4Q-pO"
   },
   "source": [
    "### 0. Preamble"
   ]
  },
  {
   "cell_type": "code",
   "execution_count": 1,
   "metadata": {
    "id": "K8-YOrlu3w8z"
   },
   "outputs": [],
   "source": [
    "import numpy as np\n",
    "import torch\n",
    "import torch.nn.functional as F\n",
    "import torch.nn as nn\n",
    "import matplotlib.pyplot as plt\n",
    "import pandas as pd\n",
    "from sklearn.model_selection import train_test_split\n",
    "\n",
    "torch.manual_seed(1)\n",
    "np.random.seed(1)"
   ]
  },
  {
   "cell_type": "markdown",
   "metadata": {
    "id": "Tf59x5HX3zMO"
   },
   "source": [
    "The following lines checks for GPU availability on the machine and sets the GPU as processing device (if available).\n",
    "If you are on Colab you can enable GPU support in the menu via  \"Runtime > Change runtime type\" and select \"GPU\" as hardware accelerator."
   ]
  },
  {
   "cell_type": "code",
   "execution_count": 2,
   "metadata": {
    "colab": {
     "base_uri": "https://localhost:8080/"
    },
    "id": "S3DgoJj735Gr",
    "outputId": "72d58c6b-40b3-4399-a62b-17d9a221ac03"
   },
   "outputs": [
    {
     "name": "stdout",
     "output_type": "stream",
     "text": [
      "No GPU available\n"
     ]
    },
    {
     "data": {
      "text/plain": [
       "device(type='cpu')"
      ]
     },
     "execution_count": 2,
     "metadata": {
      "tags": []
     },
     "output_type": "execute_result"
    }
   ],
   "source": [
    "if(torch.cuda.is_available()):\n",
    "  processing_chip = \"cuda:0\"\n",
    "  print(f\"{torch.cuda.get_device_name(0)} available\")\n",
    "else:\n",
    "  processing_chip = \"cpu\"\n",
    "  print(\"No GPU available\")\n",
    "\n",
    "device = torch.device(processing_chip)\n",
    "device"
   ]
  },
  {
   "cell_type": "markdown",
   "metadata": {
    "id": "Y8EgmXccAr9b"
   },
   "source": [
    "### 1. Data Preperation"
   ]
  },
  {
   "cell_type": "markdown",
   "metadata": {
    "id": "lQbkjF8hstMZ"
   },
   "source": [
    "For this small example we use the [Iris flower data set](https://en.wikipedia.org/wiki/Iris_flower_data_set). The data set consists of 50 samples from each of three species of Iris (Iris setosa, Iris virginica and Iris versicolor). Four features were measured from each sample: the length and the width of the sepals and petals, in centimeters. Based on these four features, we want to train a model that can predict the species.\n",
    "\n",
    "In the first step we load the data into a Pandas."
   ]
  },
  {
   "cell_type": "code",
   "execution_count": 3,
   "metadata": {
    "colab": {
     "base_uri": "https://localhost:8080/",
     "height": 198
    },
    "id": "DZoYUZfQ_TU8",
    "outputId": "049513a7-ee75-4c82-8677-816aa5308e07"
   },
   "outputs": [
    {
     "data": {
      "text/html": [
       "<div>\n",
       "<style scoped>\n",
       "    .dataframe tbody tr th:only-of-type {\n",
       "        vertical-align: middle;\n",
       "    }\n",
       "\n",
       "    .dataframe tbody tr th {\n",
       "        vertical-align: top;\n",
       "    }\n",
       "\n",
       "    .dataframe thead th {\n",
       "        text-align: right;\n",
       "    }\n",
       "</style>\n",
       "<table border=\"1\" class=\"dataframe\">\n",
       "  <thead>\n",
       "    <tr style=\"text-align: right;\">\n",
       "      <th></th>\n",
       "      <th>sepal_length</th>\n",
       "      <th>sepal_width</th>\n",
       "      <th>petal_length</th>\n",
       "      <th>petal_width</th>\n",
       "      <th>species</th>\n",
       "    </tr>\n",
       "  </thead>\n",
       "  <tbody>\n",
       "    <tr>\n",
       "      <th>0</th>\n",
       "      <td>5.1</td>\n",
       "      <td>3.5</td>\n",
       "      <td>1.4</td>\n",
       "      <td>0.2</td>\n",
       "      <td>Iris-setosa</td>\n",
       "    </tr>\n",
       "    <tr>\n",
       "      <th>1</th>\n",
       "      <td>4.9</td>\n",
       "      <td>3.0</td>\n",
       "      <td>1.4</td>\n",
       "      <td>0.2</td>\n",
       "      <td>Iris-setosa</td>\n",
       "    </tr>\n",
       "    <tr>\n",
       "      <th>2</th>\n",
       "      <td>4.7</td>\n",
       "      <td>3.2</td>\n",
       "      <td>1.3</td>\n",
       "      <td>0.2</td>\n",
       "      <td>Iris-setosa</td>\n",
       "    </tr>\n",
       "    <tr>\n",
       "      <th>3</th>\n",
       "      <td>4.6</td>\n",
       "      <td>3.1</td>\n",
       "      <td>1.5</td>\n",
       "      <td>0.2</td>\n",
       "      <td>Iris-setosa</td>\n",
       "    </tr>\n",
       "    <tr>\n",
       "      <th>4</th>\n",
       "      <td>5.0</td>\n",
       "      <td>3.6</td>\n",
       "      <td>1.4</td>\n",
       "      <td>0.2</td>\n",
       "      <td>Iris-setosa</td>\n",
       "    </tr>\n",
       "  </tbody>\n",
       "</table>\n",
       "</div>"
      ],
      "text/plain": [
       "   sepal_length  sepal_width  petal_length  petal_width      species\n",
       "0           5.1          3.5           1.4          0.2  Iris-setosa\n",
       "1           4.9          3.0           1.4          0.2  Iris-setosa\n",
       "2           4.7          3.2           1.3          0.2  Iris-setosa\n",
       "3           4.6          3.1           1.5          0.2  Iris-setosa\n",
       "4           5.0          3.6           1.4          0.2  Iris-setosa"
      ]
     },
     "execution_count": 3,
     "metadata": {
      "tags": []
     },
     "output_type": "execute_result"
    }
   ],
   "source": [
    "url = 'https://raw.githubusercontent.com/pabair/rl-course-ws2020/main/data/iris.csv'\n",
    "dataset = pd.read_csv(url)\n",
    "dataset.head(5)"
   ]
  },
  {
   "cell_type": "markdown",
   "metadata": {
    "id": "3wk_OnO451DX"
   },
   "source": [
    "To be able to train a model, we first need to transform the *species* column into a numeric:"
   ]
  },
  {
   "cell_type": "code",
   "execution_count": 4,
   "metadata": {
    "colab": {
     "base_uri": "https://localhost:8080/",
     "height": 198
    },
    "id": "fQqdZZ16AHBe",
    "outputId": "bd955c59-5448-421b-b8d9-da223f80d000"
   },
   "outputs": [
    {
     "data": {
      "text/html": [
       "<div>\n",
       "<style scoped>\n",
       "    .dataframe tbody tr th:only-of-type {\n",
       "        vertical-align: middle;\n",
       "    }\n",
       "\n",
       "    .dataframe tbody tr th {\n",
       "        vertical-align: top;\n",
       "    }\n",
       "\n",
       "    .dataframe thead th {\n",
       "        text-align: right;\n",
       "    }\n",
       "</style>\n",
       "<table border=\"1\" class=\"dataframe\">\n",
       "  <thead>\n",
       "    <tr style=\"text-align: right;\">\n",
       "      <th></th>\n",
       "      <th>sepal_length</th>\n",
       "      <th>sepal_width</th>\n",
       "      <th>petal_length</th>\n",
       "      <th>petal_width</th>\n",
       "      <th>species</th>\n",
       "    </tr>\n",
       "  </thead>\n",
       "  <tbody>\n",
       "    <tr>\n",
       "      <th>0</th>\n",
       "      <td>5.1</td>\n",
       "      <td>3.5</td>\n",
       "      <td>1.4</td>\n",
       "      <td>0.2</td>\n",
       "      <td>0</td>\n",
       "    </tr>\n",
       "    <tr>\n",
       "      <th>1</th>\n",
       "      <td>4.9</td>\n",
       "      <td>3.0</td>\n",
       "      <td>1.4</td>\n",
       "      <td>0.2</td>\n",
       "      <td>0</td>\n",
       "    </tr>\n",
       "    <tr>\n",
       "      <th>2</th>\n",
       "      <td>4.7</td>\n",
       "      <td>3.2</td>\n",
       "      <td>1.3</td>\n",
       "      <td>0.2</td>\n",
       "      <td>0</td>\n",
       "    </tr>\n",
       "    <tr>\n",
       "      <th>3</th>\n",
       "      <td>4.6</td>\n",
       "      <td>3.1</td>\n",
       "      <td>1.5</td>\n",
       "      <td>0.2</td>\n",
       "      <td>0</td>\n",
       "    </tr>\n",
       "    <tr>\n",
       "      <th>4</th>\n",
       "      <td>5.0</td>\n",
       "      <td>3.6</td>\n",
       "      <td>1.4</td>\n",
       "      <td>0.2</td>\n",
       "      <td>0</td>\n",
       "    </tr>\n",
       "  </tbody>\n",
       "</table>\n",
       "</div>"
      ],
      "text/plain": [
       "   sepal_length  sepal_width  petal_length  petal_width species\n",
       "0           5.1          3.5           1.4          0.2       0\n",
       "1           4.9          3.0           1.4          0.2       0\n",
       "2           4.7          3.2           1.3          0.2       0\n",
       "3           4.6          3.1           1.5          0.2       0\n",
       "4           5.0          3.6           1.4          0.2       0"
      ]
     },
     "execution_count": 4,
     "metadata": {
      "tags": []
     },
     "output_type": "execute_result"
    }
   ],
   "source": [
    "dataset.loc[dataset.species=='Iris-setosa', 'species'] = 0\n",
    "dataset.loc[dataset.species=='Iris-versicolor', 'species'] = 1\n",
    "dataset.loc[dataset.species=='Iris-virginica', 'species'] = 2\n",
    "dataset.head()"
   ]
  },
  {
   "cell_type": "markdown",
   "metadata": {
    "id": "hYLgEfDUPu2_"
   },
   "source": [
    "Next, we specify which columns we want to use as features and which as label:"
   ]
  },
  {
   "cell_type": "code",
   "execution_count": 5,
   "metadata": {
    "id": "-uHB8hU0A4sI"
   },
   "outputs": [],
   "source": [
    "X = dataset[dataset.columns[0:4]].values\n",
    "y = dataset.species.values.astype(int)"
   ]
  },
  {
   "cell_type": "markdown",
   "metadata": {
    "id": "pNUlUKPYtz8C"
   },
   "source": [
    "We then split our data into training and test data."
   ]
  },
  {
   "cell_type": "code",
   "execution_count": 6,
   "metadata": {
    "colab": {
     "base_uri": "https://localhost:8080/"
    },
    "id": "fQvkW7kct2Ry",
    "outputId": "045a05f3-2c8a-4823-ab45-d63a28988a01"
   },
   "outputs": [
    {
     "name": "stdout",
     "output_type": "stream",
     "text": [
      "(120, 4) (30, 4)\n"
     ]
    }
   ],
   "source": [
    "train_X, test_X, train_y, test_y = train_test_split(X, y, test_size=0.2)\n",
    "print(train_X.shape, test_X.shape)"
   ]
  },
  {
   "cell_type": "markdown",
   "metadata": {
    "id": "56Ep6AWT5-Wy"
   },
   "source": [
    "To be able to use the data in PyTorch, we need to convert them into PyTorch tensors. Such a tensor can be thought of an efficient way to represent lists and matrices (similar to Numpy), with the additional benefit that they can be moved to the GPU (the `.to(device)` part in the code below) and that they support automatic backpropagation (more on this later):"
   ]
  },
  {
   "cell_type": "code",
   "execution_count": 7,
   "metadata": {
    "id": "-OI44o3i-grB"
   },
   "outputs": [],
   "source": [
    "train_x = torch.Tensor(train_X).float().to(device)\n",
    "test_x = torch.Tensor(test_X).float().to(device)\n",
    "train_y =torch.Tensor(train_y).long().to(device)\n",
    "test_y = torch.Tensor(test_y).long().to(device)"
   ]
  },
  {
   "cell_type": "markdown",
   "metadata": {
    "id": "5wcTXnyu7NWK"
   },
   "source": [
    "### 2. Model definition\n",
    "We define now the strucutre of our neural network.\n",
    "By convention we put in the `__init__` method the layers we want to use in the network and in the `forward` mehtod how data flows through this network.\n",
    "\n",
    "Our network has 4 input features, 7 hidden layer nodes and 3 output neurons. The hidden layer uses a Relu activation function. Note that the output layer dos not have a softmax activation, but rather gives out a raw score for each class. \n"
   ]
  },
  {
   "cell_type": "code",
   "execution_count": 8,
   "metadata": {
    "id": "_W47oZ534E-1"
   },
   "outputs": [],
   "source": [
    "class Net(nn.Module):\n",
    "  def __init__(self):\n",
    "    super(Net, self).__init__()\n",
    "    self.hidden1 = nn.Linear(4, 7)\n",
    "    self.hidden2 = nn.Linear(7, 5)  \n",
    "    self.output = nn.Linear(5, 3)\n",
    "\n",
    "  def forward(self, x):\n",
    "    z = F.relu(self.hidden1(x))\n",
    "    z = F.relu(self.hidden2(z))\n",
    "    z = self.output(z)  # no softmax. see CrossEntropyLoss() \n",
    "    return z"
   ]
  },
  {
   "cell_type": "markdown",
   "metadata": {
    "id": "gJyy5JG_84vs"
   },
   "source": [
    "### 3. Model Training\n",
    "We can now start traininging our network. We run several epochs in which we first predict on the training data with our network and than backpropagate the loss. For this we use PyTorch's build-in optimizer that runs gradient descent on the weights of the network. Hence, in every episode we reduce the loss on the training data and improve our network.\n",
    "\n",
    "As loss function we use cross entropy, which consumes the raw scores from the prediction and internally applies a softmax (that is why we do not need the softmax as last layer in the network).\n",
    "\n",
    "Note that all training data is passed at once to our network (line `net(train_x)`), since PyTorch will predict on all data points in parallel. "
   ]
  },
  {
   "cell_type": "code",
   "execution_count": 9,
   "metadata": {
    "colab": {
     "base_uri": "https://localhost:8080/"
    },
    "id": "7RQHZvvyAFzV",
    "outputId": "0476e748-d722-4474-c484-1917fd759d42"
   },
   "outputs": [
    {
     "name": "stdout",
     "output_type": "stream",
     "text": [
      "\n",
      "Starting training \n",
      "Loss in epoch 0 is 1.1053273677825928\n",
      "Loss in epoch 10 is 1.0869230031967163\n",
      "Loss in epoch 20 is 1.0752861499786377\n",
      "Loss in epoch 30 is 1.0632227659225464\n",
      "Loss in epoch 40 is 1.0472149848937988\n",
      "Loss in epoch 50 is 1.023816466331482\n",
      "Loss in epoch 60 is 0.9762231111526489\n",
      "Loss in epoch 70 is 0.9104512333869934\n",
      "Loss in epoch 80 is 0.8265962600708008\n",
      "Loss in epoch 90 is 0.7284827828407288\n",
      "Loss in epoch 100 is 0.6359002590179443\n",
      "Loss in epoch 110 is 0.5636434555053711\n",
      "Loss in epoch 120 is 0.5105176568031311\n",
      "Loss in epoch 130 is 0.46867984533309937\n",
      "Loss in epoch 140 is 0.43277376890182495\n",
      "Loss in epoch 150 is 0.3997536599636078\n",
      "Loss in epoch 160 is 0.3691190481185913\n",
      "Loss in epoch 170 is 0.3397290110588074\n",
      "Loss in epoch 180 is 0.3114094138145447\n",
      "Loss in epoch 190 is 0.2843443751335144\n",
      "Loss in epoch 200 is 0.258881151676178\n",
      "Loss in epoch 210 is 0.2355496734380722\n",
      "Loss in epoch 220 is 0.21564450860023499\n",
      "Loss in epoch 230 is 0.21150825917720795\n",
      "Loss in epoch 240 is 0.347854882478714\n",
      "Loss in epoch 250 is 0.29827818274497986\n",
      "Loss in epoch 260 is 0.2621634304523468\n",
      "Loss in epoch 270 is 0.25406593084335327\n",
      "Loss in epoch 280 is 0.24754555523395538\n",
      "Loss in epoch 290 is 0.23470774292945862\n",
      "Loss in epoch 300 is 0.21590261161327362\n",
      "Loss in epoch 310 is 0.21385937929153442\n",
      "Loss in epoch 320 is 0.20397838950157166\n",
      "Loss in epoch 330 is 0.1849355250597\n",
      "Loss in epoch 340 is 0.18917371332645416\n",
      "Loss in epoch 350 is 0.18341968953609467\n",
      "Loss in epoch 360 is 0.16886910796165466\n",
      "Loss in epoch 370 is 0.15369300544261932\n",
      "Loss in epoch 380 is 0.12292587757110596\n",
      "Loss in epoch 390 is 0.11566311866044998\n",
      "Done training \n"
     ]
    }
   ],
   "source": [
    "# create network, move it to device and set it to training-mode\n",
    "net = Net().to(device)\n",
    "net.train()\n",
    "\n",
    "# define the parameters for training\n",
    "no_epochs = 400\n",
    "learning_rate = 0.04\n",
    "loss_func = nn.CrossEntropyLoss()  # applies softmax() internally\n",
    "optimizer = torch.optim.SGD(net.parameters(), lr=learning_rate)\n",
    "\n",
    "print(\"\\nStarting training \")\n",
    "\n",
    "train_losses = []\n",
    "for epoch in range(0, no_epochs):\n",
    "\n",
    "  optimizer.zero_grad()\n",
    "  output = net(train_x)\n",
    "\n",
    "  loss = loss_func(output, train_y)\n",
    "  loss.backward()\n",
    "  optimizer.step()\n",
    "\n",
    "  train_losses.append(loss.item())\n",
    "  \n",
    "  if epoch % 10 == 0:\n",
    "    print(f\"Loss in epoch {epoch} is {loss.item()}\")\n",
    "\n",
    "print(\"Done training \")"
   ]
  },
  {
   "cell_type": "code",
   "execution_count": 10,
   "metadata": {
    "colab": {
     "base_uri": "https://localhost:8080/",
     "height": 296
    },
    "id": "fMPxG1i873W7",
    "outputId": "cca72b97-5a9b-4d46-dc25-f845d65eb9fd"
   },
   "outputs": [
    {
     "data": {
      "text/plain": [
       "Text(0, 0.5, 'loss')"
      ]
     },
     "execution_count": 10,
     "metadata": {
      "tags": []
     },
     "output_type": "execute_result"
    },
    {
     "data": {
      "image/png": "[encoded data removed]",
      "text/plain": [
       "<Figure size 432x288 with 1 Axes>"
      ]
     },
     "metadata": {
      "needs_background": "light",
      "tags": []
     },
     "output_type": "display_data"
    }
   ],
   "source": [
    "  fig = plt.figure()\n",
    "  plt.plot(range(0, no_epochs), train_losses, color='blue')\n",
    "  plt.legend(['Train Loss'], loc='upper right')\n",
    "  plt.xlabel('number of epochs')\n",
    "  plt.ylabel('loss')"
   ]
  },
  {
   "cell_type": "markdown",
   "metadata": {
    "id": "cN8btFSP3yU2"
   },
   "source": [
    "### 4. Model Evaluation\n",
    "Finally, we check the model accuracy on the test data. For this we predict on the test data, identify the class with the highest score and compare it to the true label."
   ]
  },
  {
   "cell_type": "code",
   "execution_count": 11,
   "metadata": {
    "colab": {
     "base_uri": "https://localhost:8080/"
    },
    "id": "wsmVfo49Kytp",
    "outputId": "b88f6757-63c8-4400-edff-64173bdc2d1a"
   },
   "outputs": [
    {
     "name": "stdout",
     "output_type": "stream",
     "text": [
      "Accuarcy is 86.66666666666667%\n"
     ]
    }
   ],
   "source": [
    "net.eval() # set network to evaluation mode\n",
    "y_pred = net(test_x)\n",
    "_, predicted = torch.max(y_pred.data, 1)\n",
    "correct = (predicted == test_y).sum().item()\n",
    "print(f\"Accuarcy is {100. * correct / len(test_x)}%\")"
   ]
  },
  {
   "cell_type": "markdown",
   "metadata": {
    "id": "p2OBRIEXifuc"
   },
   "source": [
    "### 5. Solution Task 2\n",
    "The change of the network layers and the increased number of epochs is directly done in the code above."
   ]
  },
  {
   "cell_type": "markdown",
   "metadata": {
    "id": "t_2L4olRgZ2M"
   },
   "source": [
    "### 6. Solution Task 3"
   ]
  },
  {
   "cell_type": "markdown",
   "metadata": {
    "id": "mzuFEPS1hJ74"
   },
   "source": [
    "We first need to transform the features into a torch tensor:"
   ]
  },
  {
   "cell_type": "code",
   "execution_count": 12,
   "metadata": {
    "colab": {
     "base_uri": "https://localhost:8080/"
    },
    "id": "WX75sfd2ggpn",
    "outputId": "d8a48040-865f-4fbc-9a15-375baec0153a"
   },
   "outputs": [
    {
     "data": {
      "text/plain": [
       "torch.Size([4])"
      ]
     },
     "execution_count": 12,
     "metadata": {
      "tags": []
     },
     "output_type": "execute_result"
    }
   ],
   "source": [
    "x = [4.9, 3.0, 1.4, 0.2]\n",
    "torch_x = torch.Tensor(x).float().to(device)\n",
    "torch_x.shape"
   ]
  },
  {
   "cell_type": "markdown",
   "metadata": {
    "id": "eSgfQXJLhN7b"
   },
   "source": [
    "If we predict with the network on this tensor, we get raw scores but no probabilities:"
   ]
  },
  {
   "cell_type": "code",
   "execution_count": 13,
   "metadata": {
    "colab": {
     "base_uri": "https://localhost:8080/"
    },
    "id": "tbZrO8OygmOf",
    "outputId": "9231efe9-b2ea-4c21-da87-7319df281e9a"
   },
   "outputs": [
    {
     "data": {
      "text/plain": [
       "tensor([  6.3195,   1.4803, -12.8071], grad_fn=<AddBackward0>)"
      ]
     },
     "execution_count": 13,
     "metadata": {
      "tags": []
     },
     "output_type": "execute_result"
    }
   ],
   "source": [
    "y_pred = net(torch_x)\n",
    "y_pred"
   ]
  },
  {
   "cell_type": "markdown",
   "metadata": {
    "id": "WI9b8YVFhWls"
   },
   "source": [
    "Using the softmax function, we can normalize the scores to probabilites:"
   ]
  },
  {
   "cell_type": "code",
   "execution_count": 14,
   "metadata": {
    "colab": {
     "base_uri": "https://localhost:8080/"
    },
    "id": "k0MjDGNLgxsB",
    "outputId": "762fd451-1391-4d1f-9bbb-1e475e6a3e88"
   },
   "outputs": [
    {
     "data": {
      "text/plain": [
       "tensor([9.9215e-01, 7.8511e-03, 4.8975e-09], grad_fn=<SoftmaxBackward>)"
      ]
     },
     "execution_count": 14,
     "metadata": {
      "tags": []
     },
     "output_type": "execute_result"
    }
   ],
   "source": [
    " softmax = nn.Softmax(dim=0)\n",
    " softmax(y_pred)"
   ]
  }
 ],
 "metadata": {
  "colab": {
   "authorship_tag": "ABX9TyNSN+HJUVXPCO27TPg3CHQk",
   "collapsed_sections": [],
   "include_colab_link": true,
   "name": "4_PyTorch_Example.ipynb",
   "provenance": []
  },
  "kernelspec": {
   "display_name": "Python 3",
   "language": "python",
   "name": "python3"
  },
  "language_info": {
   "codemirror_mode": {
    "name": "ipython",
    "version": 3
   },
   "file_extension": ".py",
   "mimetype": "text/x-python",
   "name": "python",
   "nbconvert_exporter": "python",
   "pygments_lexer": "ipython3",
   "version": "3.8.5"
  }
 },
 "nbformat": 4,
 "nbformat_minor": 1
}
