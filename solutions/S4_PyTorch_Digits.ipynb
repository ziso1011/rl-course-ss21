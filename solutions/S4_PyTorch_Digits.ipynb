{
 "cells": [
  {
   "cell_type": "markdown",
   "metadata": {
    "id": "TOBUyiZq3d2u"
   },
   "source": [
    "# PyTorch Digits Example\n",
    "This example classifies the digit dataset using a neural net. Compared to the minimal notebook the changes are:\n",
    "1. Load the digits dataset. For more details on the dataset, check [this](https://github.com/pabair/ml-kurs/blob/master/2_Logistische_Regression.ipynb) notebook.\n",
    "2. Change the input and output size of the neural network (input is 64, output is 10).\n"
   ]
  },
  {
   "cell_type": "markdown",
   "metadata": {
    "id": "LhdvnPe4Q-pO"
   },
   "source": [
    "### 0. Preamble"
   ]
  },
  {
   "cell_type": "code",
   "execution_count": 30,
   "metadata": {
    "id": "K8-YOrlu3w8z"
   },
   "outputs": [],
   "source": [
    "import numpy as np\n",
    "import torch\n",
    "import torch.nn.functional as F\n",
    "import torch.nn as nn\n",
    "import matplotlib.pyplot as plt\n",
    "\n",
    "torch.manual_seed(1)\n",
    "np.random.seed(1)"
   ]
  },
  {
   "cell_type": "code",
   "execution_count": 31,
   "metadata": {
    "colab": {
     "base_uri": "https://localhost:8080/"
    },
    "id": "S3DgoJj735Gr",
    "outputId": "9b0d4e20-17af-4ae0-c296-d33b6d629bfc"
   },
   "outputs": [
    {
     "name": "stdout",
     "output_type": "stream",
     "text": [
      "No GPU available\n"
     ]
    },
    {
     "data": {
      "text/plain": [
       "device(type='cpu')"
      ]
     },
     "execution_count": 31,
     "metadata": {
      "tags": []
     },
     "output_type": "execute_result"
    }
   ],
   "source": [
    "if(torch.cuda.is_available()):\n",
    "  processing_chip = \"cuda:0\"\n",
    "  print(f\"{torch.cuda.get_device_name(0)} available\")\n",
    "else:\n",
    "  processing_chip = \"cpu\"\n",
    "  print(\"No GPU available\")\n",
    "\n",
    "device = torch.device(processing_chip)\n",
    "device"
   ]
  },
  {
   "cell_type": "markdown",
   "metadata": {
    "id": "Y8EgmXccAr9b"
   },
   "source": [
    "### 1. Data Preperation"
   ]
  },
  {
   "cell_type": "code",
   "execution_count": 32,
   "metadata": {
    "id": "DZoYUZfQ_TU8"
   },
   "outputs": [],
   "source": [
    "from sklearn.datasets import load_digits\n",
    "data, labels = load_digits(return_X_y = True)"
   ]
  },
  {
   "cell_type": "code",
   "execution_count": 33,
   "metadata": {
    "id": "KfY2iF0WTlWu"
   },
   "outputs": [],
   "source": [
    "from sklearn.model_selection import train_test_split\n",
    "train_X, test_X, train_y, test_y = train_test_split(data, labels, test_size=0.2, random_state=0)"
   ]
  },
  {
   "cell_type": "code",
   "execution_count": 34,
   "metadata": {
    "colab": {
     "base_uri": "https://localhost:8080/"
    },
    "id": "fQqdZZ16AHBe",
    "outputId": "c132443d-697b-4881-dfbe-3dc38d604060"
   },
   "outputs": [
    {
     "data": {
      "text/plain": [
       "array([[ 0.,  0.,  0., ..., 16., 16.,  6.],\n",
       "       [ 0.,  3., 12., ..., 16.,  2.,  0.],\n",
       "       [ 0.,  1., 10., ...,  0.,  0.,  0.],\n",
       "       ...,\n",
       "       [ 0.,  0.,  5., ...,  0.,  0.,  0.],\n",
       "       [ 0.,  0.,  4., ...,  0.,  0.,  0.],\n",
       "       [ 0.,  0.,  6., ..., 11.,  0.,  0.]])"
      ]
     },
     "execution_count": 34,
     "metadata": {
      "tags": []
     },
     "output_type": "execute_result"
    }
   ],
   "source": [
    "X_train"
   ]
  },
  {
   "cell_type": "code",
   "execution_count": 35,
   "metadata": {
    "id": "-OI44o3i-grB"
   },
   "outputs": [],
   "source": [
    "train_x = torch.Tensor(train_X).float().to(device)\n",
    "test_x = torch.Tensor(test_X).float().to(device)\n",
    "train_y = torch.Tensor(train_y).long().to(device)\n",
    "test_y = torch.Tensor(test_y).long().to(device)"
   ]
  },
  {
   "cell_type": "markdown",
   "metadata": {
    "id": "5wcTXnyu7NWK"
   },
   "source": [
    "### 2. Model definition \n"
   ]
  },
  {
   "cell_type": "code",
   "execution_count": 36,
   "metadata": {
    "id": "_W47oZ534E-1"
   },
   "outputs": [],
   "source": [
    "class Net(nn.Module):\n",
    "  def __init__(self):\n",
    "    super(Net, self).__init__()\n",
    "    self.hidden1 = nn.Linear(64, 5)\n",
    "    self.hidden2 = nn.Linear(5, 7)  \n",
    "    self.output = nn.Linear(7, 10)\n",
    "\n",
    "  def forward(self, x):\n",
    "    z = F.relu(self.hidden1(x))\n",
    "    z = F.relu(self.hidden2(z))\n",
    "    z = self.output(z)  # no softmax. see CrossEntropyLoss() \n",
    "    return z"
   ]
  },
  {
   "cell_type": "markdown",
   "metadata": {
    "id": "gJyy5JG_84vs"
   },
   "source": [
    "### 3. Model Training"
   ]
  },
  {
   "cell_type": "code",
   "execution_count": 37,
   "metadata": {
    "colab": {
     "base_uri": "https://localhost:8080/"
    },
    "id": "7RQHZvvyAFzV",
    "outputId": "a33daa31-1fd4-4c69-c64b-7c0bf6081391"
   },
   "outputs": [
    {
     "name": "stdout",
     "output_type": "stream",
     "text": [
      "\n",
      "Starting training \n",
      "Loss in epoch 0 is 2.483743906021118\n",
      "Loss in epoch 10 is 2.1807913780212402\n",
      "Loss in epoch 20 is 2.01027774810791\n",
      "Loss in epoch 30 is 1.8581128120422363\n",
      "Loss in epoch 40 is 1.6804238557815552\n",
      "Loss in epoch 50 is 1.5361089706420898\n",
      "Loss in epoch 60 is 1.4206675291061401\n",
      "Loss in epoch 70 is 1.3116878271102905\n",
      "Loss in epoch 80 is 1.2500494718551636\n",
      "Loss in epoch 90 is 1.1599006652832031\n",
      "Loss in epoch 100 is 1.100775122642517\n",
      "Loss in epoch 110 is 1.0240036249160767\n",
      "Loss in epoch 120 is 0.9701407551765442\n",
      "Loss in epoch 130 is 0.8882778882980347\n",
      "Loss in epoch 140 is 0.8448326587677002\n",
      "Loss in epoch 150 is 0.7773168087005615\n",
      "Loss in epoch 160 is 0.7421864867210388\n",
      "Loss in epoch 170 is 0.6767240166664124\n",
      "Loss in epoch 180 is 0.7762953042984009\n",
      "Loss in epoch 190 is 0.5730281472206116\n",
      "Loss in epoch 200 is 0.5403566956520081\n",
      "Loss in epoch 210 is 0.5515676736831665\n",
      "Loss in epoch 220 is 0.5390246510505676\n",
      "Loss in epoch 230 is 0.4891301393508911\n",
      "Loss in epoch 240 is 0.47142577171325684\n",
      "Loss in epoch 250 is 0.4568503499031067\n",
      "Loss in epoch 260 is 0.44381052255630493\n",
      "Loss in epoch 270 is 0.43193918466567993\n",
      "Loss in epoch 280 is 0.4237266480922699\n",
      "Loss in epoch 290 is 0.4350550174713135\n",
      "Loss in epoch 300 is 0.5833965539932251\n",
      "Loss in epoch 310 is 0.40279296040534973\n",
      "Loss in epoch 320 is 0.3894197642803192\n",
      "Loss in epoch 330 is 0.3793787360191345\n",
      "Loss in epoch 340 is 0.3703983724117279\n",
      "Loss in epoch 350 is 0.3621613383293152\n",
      "Loss in epoch 360 is 0.3542782962322235\n",
      "Loss in epoch 370 is 0.3469754457473755\n",
      "Loss in epoch 380 is 0.34113261103630066\n",
      "Loss in epoch 390 is 0.34180212020874023\n",
      "Loss in epoch 400 is 0.3958451747894287\n",
      "Loss in epoch 410 is 0.4637238383293152\n",
      "Loss in epoch 420 is 0.32753321528434753\n",
      "Loss in epoch 430 is 0.3133713901042938\n",
      "Loss in epoch 440 is 0.30449703335762024\n",
      "Loss in epoch 450 is 0.2972159683704376\n",
      "Loss in epoch 460 is 0.29060468077659607\n",
      "Loss in epoch 470 is 0.2848154604434967\n",
      "Loss in epoch 480 is 0.2789209187030792\n",
      "Loss in epoch 490 is 0.2737157344818115\n",
      "Done training \n"
     ]
    }
   ],
   "source": [
    "# create network, move it to device and set it to training-mode\n",
    "net = Net().to(device)\n",
    "net.train()\n",
    "\n",
    "# define the parameters for training\n",
    "no_epochs = 500\n",
    "learning_rate = 0.04\n",
    "loss_func = nn.CrossEntropyLoss()  # applies softmax() internally\n",
    "optimizer = torch.optim.SGD(net.parameters(), lr=learning_rate)\n",
    "\n",
    "print(\"\\nStarting training \")\n",
    "\n",
    "train_losses = []\n",
    "for epoch in range(0, no_epochs):\n",
    "\n",
    "  optimizer.zero_grad()\n",
    "  output = net(train_x)\n",
    "\n",
    "  loss = loss_func(output, train_y)\n",
    "  loss.backward()\n",
    "  optimizer.step()\n",
    "\n",
    "  train_losses.append(loss.item())\n",
    "  \n",
    "  if epoch % 10 == 0:\n",
    "    print(f\"Loss in epoch {epoch} is {loss.item()}\")\n",
    "\n",
    "print(\"Done training \")"
   ]
  },
  {
   "cell_type": "code",
   "execution_count": 38,
   "metadata": {
    "colab": {
     "base_uri": "https://localhost:8080/",
     "height": 296
    },
    "id": "fMPxG1i873W7",
    "outputId": "e0816932-2163-4a74-da39-dac430b0e04a"
   },
   "outputs": [
    {
     "data": {
      "text/plain": [
       "Text(0, 0.5, 'loss')"
      ]
     },
     "execution_count": 38,
     "metadata": {
      "tags": []
     },
     "output_type": "execute_result"
    },
    {
     "data": {
      "image/png": "[encoded data removed]",
      "text/plain": [
       "<Figure size 432x288 with 1 Axes>"
      ]
     },
     "metadata": {
      "needs_background": "light",
      "tags": []
     },
     "output_type": "display_data"
    }
   ],
   "source": [
    "  fig = plt.figure()\n",
    "  plt.plot(range(0, no_epochs), train_losses, color='blue')\n",
    "  plt.legend(['Train Loss'], loc='upper right')\n",
    "  plt.xlabel('number of epochs')\n",
    "  plt.ylabel('loss')"
   ]
  },
  {
   "cell_type": "markdown",
   "metadata": {
    "id": "cN8btFSP3yU2"
   },
   "source": [
    "### 4. Model Evaluation"
   ]
  },
  {
   "cell_type": "code",
   "execution_count": 39,
   "metadata": {
    "colab": {
     "base_uri": "https://localhost:8080/"
    },
    "id": "wsmVfo49Kytp",
    "outputId": "b86eeda5-8413-441f-ae90-0283a35c0461"
   },
   "outputs": [
    {
     "name": "stdout",
     "output_type": "stream",
     "text": [
      "Accuarcy is 90.55555555555556%\n"
     ]
    }
   ],
   "source": [
    "net.eval() # set network to evaluation mode\n",
    "y_pred = net(test_x)\n",
    "_, predicted = torch.max(y_pred.data, 1)\n",
    "correct = (predicted == test_y).sum().item()\n",
    "print(f\"Accuarcy is {100. * correct / len(test_x)}%\")"
   ]
  },
  {
   "cell_type": "code",
   "execution_count": 39,
   "metadata": {
    "id": "sB9CFaSTWsNG"
   },
   "outputs": [],
   "source": []
  }
 ],
 "metadata": {
  "colab": {
   "authorship_tag": "ABX9TyOemi/Z0D1NXeF6Da4BsrOD",
   "collapsed_sections": [],
   "include_colab_link": true,
   "name": "4_PyTorch_Example.ipynb",
   "provenance": []
  },
  "kernelspec": {
   "display_name": "Python 3",
   "language": "python",
   "name": "python3"
  },
  "language_info": {
   "codemirror_mode": {
    "name": "ipython",
    "version": 3
   },
   "file_extension": ".py",
   "mimetype": "text/x-python",
   "name": "python",
   "nbconvert_exporter": "python",
   "pygments_lexer": "ipython3",
   "version": "3.8.5"
  }
 },
 "nbformat": 4,
 "nbformat_minor": 1
}
